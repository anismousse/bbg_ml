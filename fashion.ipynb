{
  "nbformat": 4,
  "nbformat_minor": 0,
  "metadata": {
    "colab": {
      "name": "fashion.ipynb",
      "provenance": [],
      "include_colab_link": true
    },
    "kernelspec": {
      "name": "python3",
      "display_name": "Python 3"
    }
  },
  "cells": [
    {
      "cell_type": "markdown",
      "metadata": {
        "id": "view-in-github",
        "colab_type": "text"
      },
      "source": [
        "<a href=\"https://colab.research.google.com/github/anismousse/bbg_ml/blob/master/fashion.ipynb\" target=\"_parent\"><img src=\"https://colab.research.google.com/assets/colab-badge.svg\" alt=\"Open In Colab\"/></a>"
      ]
    },
    {
      "cell_type": "code",
      "metadata": {
        "id": "BMbq3kJORLof",
        "colab_type": "code",
        "colab": {
          "base_uri": "https://localhost:8080/",
          "height": 578
        },
        "outputId": "14a6bdef-a7a3-4229-f686-af2282067415"
      },
      "source": [
        "import os\n",
        "os.environ[\"CUDA_VISIBLE_DEVICES\"] = \"-1\"\n",
        "from tensorflow.keras.datasets import fashion_mnist\n",
        "import matplotlib.pyplot as plt\n",
        "(X_train, y_train), (X_test, y_test) = fashion_mnist.load_data()\n",
        "\n",
        "plt.rcParams['figure.figsize'] = (7,7)\n",
        "offset = 0\n",
        "labels = [\"T-shirt/top\", \"Trouser\", \"Pullover\", \"Dress\",\n",
        "          \"Coat\", \"Sandal\", \"Shirt\", \"Sneaker\", \"Bag\", \"Ankle boot\"]\n",
        "for i in range(9):\n",
        "    plt.subplot(3,3,i+1)\n",
        "    plt.imshow(X_train[i+offset], cmap='gray', interpolation='none')\n",
        "    plt.title(labels[y_train[i+offset]])\n",
        "    plt.axis('off')"
      ],
      "execution_count": 1,
      "outputs": [
        {
          "output_type": "stream",
          "text": [
            "Downloading data from https://storage.googleapis.com/tensorflow/tf-keras-datasets/train-labels-idx1-ubyte.gz\n",
            "32768/29515 [=================================] - 0s 0us/step\n",
            "Downloading data from https://storage.googleapis.com/tensorflow/tf-keras-datasets/train-images-idx3-ubyte.gz\n",
            "26427392/26421880 [==============================] - 0s 0us/step\n",
            "Downloading data from https://storage.googleapis.com/tensorflow/tf-keras-datasets/t10k-labels-idx1-ubyte.gz\n",
            "8192/5148 [===============================================] - 0s 0us/step\n",
            "Downloading data from https://storage.googleapis.com/tensorflow/tf-keras-datasets/t10k-images-idx3-ubyte.gz\n",
            "4423680/4422102 [==============================] - 0s 0us/step\n"
          ],
          "name": "stdout"
        },
        {
          "output_type": "display_data",
          "data": {
            "image/png": "[encoded data removed]",
            "text/plain": [
              "<Figure size 504x504 with 9 Axes>"
            ]
          },
          "metadata": {
            "tags": []
          }
        }
      ]
    },
    {
      "cell_type": "markdown",
      "metadata": {
        "id": "Wh4f3o6ZlqRf",
        "colab_type": "text"
      },
      "source": [
        "# Import and hyper parameters\n"
      ]
    },
    {
      "cell_type": "code",
      "metadata": {
        "id": "yoTukp-okcbu",
        "colab_type": "code",
        "colab": {}
      },
      "source": [
        "import tensorflow as tf\n",
        "from tensorflow.keras.preprocessing.image import  ImageDataGenerator"
      ],
      "execution_count": 0,
      "outputs": []
    },
    {
      "cell_type": "code",
      "metadata": {
        "id": "k5rvWXpfktku",
        "colab_type": "code",
        "colab": {}
      },
      "source": [
        "# hyper paramters\n",
        "batch_size = 1128\n",
        "epochs = 10\n",
        "learn_rate = 0.001\n",
        "dropout= 0.3\n",
        "\n",
        "# load data\n",
        "class_names = [\"T-shirt/top\", \"Trouser\", \"Pullover\", \"Dress\",\n",
        "          \"Coat\", \"Sandal\", \"Shirt\", \"Sneaker\", \"Bag\", \"Ankle boot\"]\n",
        "num_class = len(class_names)\n",
        "(X_train, y_train), (X_test, y_test) = fashion_mnist.load_data()"
      ],
      "execution_count": 0,
      "outputs": []
    },
    {
      "cell_type": "markdown",
      "metadata": {
        "id": "8kE5rlt5llTA",
        "colab_type": "text"
      },
      "source": [
        "# Data exploration\n"
      ]
    },
    {
      "cell_type": "code",
      "metadata": {
        "id": "C8J3v_aulHTg",
        "colab_type": "code",
        "colab": {
          "base_uri": "https://localhost:8080/",
          "height": 34
        },
        "outputId": "98e2f3dc-d4a0-4319-807d-f477a30a1fa0"
      },
      "source": [
        "X_train.shape"
      ],
      "execution_count": 4,
      "outputs": [
        {
          "output_type": "execute_result",
          "data": {
            "text/plain": [
              "(60000, 28, 28)"
            ]
          },
          "metadata": {
            "tags": []
          },
          "execution_count": 4
        }
      ]
    },
    {
      "cell_type": "code",
      "metadata": {
        "id": "T6UyNcVxlI7e",
        "colab_type": "code",
        "colab": {
          "base_uri": "https://localhost:8080/",
          "height": 34
        },
        "outputId": "380ce693-13bc-44e4-874c-c0fdf549637c"
      },
      "source": [
        "y_train[1]"
      ],
      "execution_count": 15,
      "outputs": [
        {
          "output_type": "execute_result",
          "data": {
            "text/plain": [
              "0"
            ]
          },
          "metadata": {
            "tags": []
          },
          "execution_count": 15
        }
      ]
    },
    {
      "cell_type": "code",
      "metadata": {
        "id": "eYi5FZVjlK_Z",
        "colab_type": "code",
        "colab": {
          "base_uri": "https://localhost:8080/",
          "height": 449
        },
        "outputId": "510b5948-421a-4b38-a3fb-63898e890b1d"
      },
      "source": [
        "plt.imshow(X_train[1], cmap='gray', interpolation='none')"
      ],
      "execution_count": 14,
      "outputs": [
        {
          "output_type": "execute_result",
          "data": {
            "text/plain": [
              "<matplotlib.image.AxesImage at 0x7fd4fd6f8630>"
            ]
          },
          "metadata": {
            "tags": []
          },
          "execution_count": 14
        },
        {
          "output_type": "display_data",
          "data": {
            "image/png": "[encoded data removed]",
            "text/plain": [
              "<Figure size 504x504 with 1 Axes>"
            ]
          },
          "metadata": {
            "tags": []
          }
        }
      ]
    },
    {
      "cell_type": "markdown",
      "metadata": {
        "id": "ots6VX86l9Kd",
        "colab_type": "text"
      },
      "source": [
        " We need to normalized the data\n",
        " "
      ]
    },
    {
      "cell_type": "code",
      "metadata": {
        "id": "FcpbkN3amC4W",
        "colab_type": "code",
        "colab": {}
      },
      "source": [
        "# features normalization\n",
        "X_train = X_train.astype('float32')/255 # grayscale\n",
        "X_test = X_test.astype('float32')/255\n",
        "\n",
        "#Converter class into binary class\n",
        "y_train = tf.keras.utils.to_categorical(y_train,num_classes=num_class)\n",
        "y_test = tf.keras.utils.to_categorical(y_test,num_classes=num_class)\n"
      ],
      "execution_count": 0,
      "outputs": []
    },
    {
      "cell_type": "markdown",
      "metadata": {
        "id": "jEwDiTXmrktJ",
        "colab_type": "text"
      },
      "source": [
        " need to add another dimension a convolution is is expecting 3 dimension \n",
        " "
      ]
    },
    {
      "cell_type": "code",
      "metadata": {
        "id": "UrXHgzI4rk5y",
        "colab_type": "code",
        "colab": {}
      },
      "source": [
        "X_train = X_train.reshape(X_train.shape[0], X_train.shape[1], X_train.shape[2], 1)\n",
        "X_test = X_test.reshape(X_test.shape[0], X_test.shape[1], X_test.shape[2], 1)"
      ],
      "execution_count": 0,
      "outputs": []
    },
    {
      "cell_type": "markdown",
      "metadata": {
        "id": "G7nDm-LGmCgo",
        "colab_type": "text"
      },
      "source": [
        "# Create the model\n"
      ]
    },
    {
      "cell_type": "markdown",
      "metadata": {
        "id": "azwswylhpiIc",
        "colab_type": "text"
      },
      "source": [
        "Basic model using convolution\n"
      ]
    },
    {
      "cell_type": "code",
      "metadata": {
        "id": "3GfzZ1oznc4p",
        "colab_type": "code",
        "colab": {
          "base_uri": "https://localhost:8080/",
          "height": 386
        },
        "outputId": "6f4e17ff-9810-403f-bf57-6eb4d2174e1f"
      },
      "source": [
        "model = tf.keras.models.Sequential()\n",
        "model.add(tf.keras.layers.Conv2D(10,(3,3),input_shape=X_train.shape[1:],padding='same' ,activation='relu'))\n",
        "model.add(tf.keras.layers.MaxPool2D(pool_size=(2,2)))\n",
        "model.add(tf.keras.layers.Flatten()) # the aim here witht he flatten is to remove the batch size dimension\n",
        "model.add(tf.keras.layers.Dense(100,activation='relu'))\n",
        "model.add(tf.keras.layers.Dense(num_class,activation='softmax'))\n",
        "\n",
        "model.compile(loss='categorical_crossentropy', optimizer=tf.keras.optimizers.Adam(learning_rate=learn_rate),metrics=['accuracy'])\n",
        "\n",
        "model.fit(X_train, y_train, epochs=epochs,validation_data=(X_test,y_test))"
      ],
      "execution_count": 25,
      "outputs": [
        {
          "output_type": "stream",
          "text": [
            "Train on 60000 samples, validate on 10000 samples\n",
            "Epoch 1/10\n",
            "60000/60000 [==============================] - 24s 393us/sample - loss: 0.4207 - acc: 0.8528 - val_loss: 0.3518 - val_acc: 0.8738\n",
            "Epoch 2/10\n",
            "60000/60000 [==============================] - 23s 385us/sample - loss: 0.2899 - acc: 0.8952 - val_loss: 0.3041 - val_acc: 0.8923\n",
            "Epoch 3/10\n",
            "60000/60000 [==============================] - 24s 397us/sample - loss: 0.2482 - acc: 0.9094 - val_loss: 0.2820 - val_acc: 0.8988\n",
            "Epoch 4/10\n",
            "60000/60000 [==============================] - 24s 395us/sample - loss: 0.2207 - acc: 0.9176 - val_loss: 0.2670 - val_acc: 0.9046\n",
            "Epoch 5/10\n",
            "60000/60000 [==============================] - 24s 402us/sample - loss: 0.1994 - acc: 0.9271 - val_loss: 0.2649 - val_acc: 0.9051\n",
            "Epoch 6/10\n",
            "60000/60000 [==============================] - 25s 415us/sample - loss: 0.1797 - acc: 0.9326 - val_loss: 0.2625 - val_acc: 0.9070\n",
            "Epoch 7/10\n",
            "60000/60000 [==============================] - 25s 420us/sample - loss: 0.1649 - acc: 0.9389 - val_loss: 0.2595 - val_acc: 0.9106\n",
            "Epoch 8/10\n",
            "60000/60000 [==============================] - 25s 425us/sample - loss: 0.1485 - acc: 0.9452 - val_loss: 0.2601 - val_acc: 0.9115\n",
            "Epoch 9/10\n",
            "60000/60000 [==============================] - 25s 410us/sample - loss: 0.1359 - acc: 0.9503 - val_loss: 0.2794 - val_acc: 0.9107\n",
            "Epoch 10/10\n",
            "60000/60000 [==============================] - 25s 416us/sample - loss: 0.1218 - acc: 0.9546 - val_loss: 0.2863 - val_acc: 0.9128\n"
          ],
          "name": "stdout"
        },
        {
          "output_type": "execute_result",
          "data": {
            "text/plain": [
              "<tensorflow.python.keras.callbacks.History at 0x7fd4ef0f8780>"
            ]
          },
          "metadata": {
            "tags": []
          },
          "execution_count": 25
        }
      ]
    },
    {
      "cell_type": "markdown",
      "metadata": {
        "id": "mifTLofk1jiv",
        "colab_type": "text"
      },
      "source": [
        "We can easily see that ***Val_acc is below acc*** so we are **overfitting**. We then need to add more complexity"
      ]
    },
    {
      "cell_type": "code",
      "metadata": {
        "id": "TRlpwxREpcXx",
        "colab_type": "code",
        "colab": {
          "base_uri": "https://localhost:8080/",
          "height": 386
        },
        "outputId": "f740632e-8993-4395-f032-405c96a461bf"
      },
      "source": [
        "model = tf.keras.models.Sequential()\n",
        "model.add(tf.keras.layers.Conv2D(10,(3,3),input_shape=X_train.shape[1:],padding='same' ,activation='relu'))\n",
        "model.add(tf.keras.layers.MaxPool2D(pool_size=(2,2)))\n",
        "model.add(tf.keras.layers.Dropout(dropout))\n",
        "model.add(tf.keras.layers.Conv2D(20,(3,3),input_shape=X_train.shape[1:],padding='same' ,activation='relu'))\n",
        "model.add(tf.keras.layers.MaxPool2D(pool_size=(2,2)))\n",
        "model.add(tf.keras.layers.Dropout(dropout))\n",
        "model.add(tf.keras.layers.Conv2D(40,(3,3),input_shape=X_train.shape[1:],padding='same' ,activation='relu'))\n",
        "model.add(tf.keras.layers.MaxPool2D(pool_size=(2,2)))\n",
        "model.add(tf.keras.layers.Dropout(dropout))\n",
        "model.add(tf.keras.layers.Flatten()) # the aim here witht he flatten is to remove the batch size dimension\n",
        "model.add(tf.keras.layers.Dropout(dropout))\n",
        "model.add(tf.keras.layers.Dense(100,activation='relu'))\n",
        "model.add(tf.keras.layers.Dense(num_class,activation='softmax'))\n",
        "\n",
        "model.compile(loss='categorical_crossentropy', optimizer=tf.keras.optimizers.Adam(learning_rate=learn_rate),metrics=['accuracy'])\n",
        "\n",
        "model.fit(X_train, y_train, epochs=epochs,validation_data=(X_test,y_test))"
      ],
      "execution_count": 26,
      "outputs": [
        {
          "output_type": "stream",
          "text": [
            "Train on 60000 samples, validate on 10000 samples\n",
            "Epoch 1/10\n",
            "60000/60000 [==============================] - 45s 754us/sample - loss: 0.7070 - acc: 0.7351 - val_loss: 0.4633 - val_acc: 0.8381\n",
            "Epoch 2/10\n",
            "60000/60000 [==============================] - 45s 753us/sample - loss: 0.4818 - acc: 0.8210 - val_loss: 0.4044 - val_acc: 0.8517\n",
            "Epoch 3/10\n",
            "60000/60000 [==============================] - 45s 746us/sample - loss: 0.4346 - acc: 0.8386 - val_loss: 0.3635 - val_acc: 0.8660\n",
            "Epoch 4/10\n",
            "60000/60000 [==============================] - 46s 767us/sample - loss: 0.4032 - acc: 0.8495 - val_loss: 0.3506 - val_acc: 0.8747\n",
            "Epoch 5/10\n",
            "60000/60000 [==============================] - 46s 769us/sample - loss: 0.3809 - acc: 0.8571 - val_loss: 0.3258 - val_acc: 0.8820\n",
            "Epoch 6/10\n",
            "60000/60000 [==============================] - 45s 747us/sample - loss: 0.3636 - acc: 0.8635 - val_loss: 0.3107 - val_acc: 0.8889\n",
            "Epoch 7/10\n",
            "60000/60000 [==============================] - 45s 747us/sample - loss: 0.3531 - acc: 0.8683 - val_loss: 0.3162 - val_acc: 0.8841\n",
            "Epoch 8/10\n",
            "60000/60000 [==============================] - 44s 739us/sample - loss: 0.3423 - acc: 0.8731 - val_loss: 0.3014 - val_acc: 0.8897\n",
            "Epoch 9/10\n",
            "60000/60000 [==============================] - 43s 724us/sample - loss: 0.3336 - acc: 0.8749 - val_loss: 0.2928 - val_acc: 0.8910\n",
            "Epoch 10/10\n",
            "60000/60000 [==============================] - 45s 743us/sample - loss: 0.3274 - acc: 0.8773 - val_loss: 0.2931 - val_acc: 0.8923\n"
          ],
          "name": "stdout"
        },
        {
          "output_type": "execute_result",
          "data": {
            "text/plain": [
              "<tensorflow.python.keras.callbacks.History at 0x7fd4ef629198>"
            ]
          },
          "metadata": {
            "tags": []
          },
          "execution_count": 26
        }
      ]
    },
    {
      "cell_type": "code",
      "metadata": {
        "id": "VLYqxEvj2P7C",
        "colab_type": "code",
        "colab": {}
      },
      "source": [
        ""
      ],
      "execution_count": 0,
      "outputs": []
    }
  ]
}