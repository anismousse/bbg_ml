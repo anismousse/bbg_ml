{
  "nbformat": 4,
  "nbformat_minor": 0,
  "metadata": {
    "colab": {
      "name": "01_mnist_example.ipynb",
      "provenance": [],
      "include_colab_link": true
    },
    "kernelspec": {
      "name": "python3",
      "display_name": "Python 3"
    }
  },
  "cells": [
    {
      "cell_type": "markdown",
      "metadata": {
        "id": "view-in-github",
        "colab_type": "text"
      },
      "source": [
        "<a href=\"https://colab.research.google.com/github/anismousse/bbg_ml/blob/master/01_mnist_example.ipynb\" target=\"_parent\"><img src=\"https://colab.research.google.com/assets/colab-badge.svg\" alt=\"Open In Colab\"/></a>"
      ]
    },
    {
      "cell_type": "code",
      "metadata": {
        "id": "A6RW-1KuOrzJ",
        "colab_type": "code",
        "colab": {
          "base_uri": "https://localhost:8080/",
          "height": 592
        },
        "outputId": "8cb93a17-ffde-422c-e904-c26373c54ff6"
      },
      "source": [
        "import tensorflow as tf\n",
        "import wandb\n",
        "\n",
        "# logging code\n",
        "run = wandb.init()\n",
        "config = run.config\n",
        "\n",
        "# load data\n",
        "(X_train, y_train), (X_test, y_test) = tf.keras.datasets.mnist.load_data()\n",
        "#print(y_train.shape)\n",
        "#exit()\n",
        "img_width = X_train.shape[1]\n",
        "img_height = X_train.shape[2]\n",
        "\n",
        "# normalize data\n",
        "X_train = X_train.astype('float32') / 255.\n",
        "X_test = X_test.astype('float32') / 255.\n",
        "\n",
        "# one hot encode outputs\n",
        "y_train = tf.keras.utils.to_categorical(y_train)\n",
        "y_test = tf.keras.utils.to_categorical(y_test)\n",
        "labels = [str(i) for i in range(10)]\n",
        "\n",
        "# reshape input data\n",
        "X_train = X_train.reshape(\n",
        "    X_train.shape[0], img_width, img_height, 1)\n",
        "X_test = X_test.reshape(\n",
        "    X_test.shape[0], img_width, img_height, 1)\n",
        "\n",
        "num_classes = y_train.shape[1]\n",
        "#print(num_classes)\n",
        "#exit()\n",
        "# create model\n",
        "model = tf.keras.models.Sequential()\n",
        "model.add(tf.keras.layers.Conv2D(16,(3,3), input_shape=(img_width, img_height, 1)))\n",
        "model.add(tf.keras.layers.MaxPooling2D(pool_size=(2,2)))\n",
        "model.add(tf.keras.layers.Conv2D(16,(3,3)))\n",
        "model.add(tf.keras.layers.MaxPooling2D(pool_size=(2,2)))\n",
        "model.add(tf.keras.layers.Flatten())\n",
        "model.add(tf.keras.layers.Dropout(0.3))\n",
        "model.add(tf.keras.layers.Dense(100, activation='relu'))\n",
        "model.add(tf.keras.layers.Dropout(0.3))\n",
        "model.add(tf.keras.layers.Dense(num_classes,activation='softmax')) # we need to precise the activation or keras will jst put a lineair activation\n",
        "model.compile(loss='categorical_crossentropy', optimizer='adam',\n",
        "              metrics=['accuracy'])\n",
        "\n",
        "# Fit the model\n",
        "model.fit(X_train, y_train, epochs=10, validation_data=(X_test, y_test),\n",
        "          callbacks=[wandb.keras.WandbCallback(data_type=\"image\", labels=labels, save_model=False)])\n"
      ],
      "execution_count": 1,
      "outputs": [
        {
          "output_type": "display_data",
          "data": {
            "application/javascript": [
              "\n",
              "        window._wandbApiKey = new Promise((resolve, reject) => {\n",
              "            function loadScript(url) {\n",
              "            return new Promise(function(resolve, reject) {\n",
              "                let newScript = document.createElement(\"script\");\n",
              "                newScript.onerror = reject;\n",
              "                newScript.onload = resolve;\n",
              "                document.body.appendChild(newScript);\n",
              "                newScript.src = url;\n",
              "            });\n",
              "            }\n",
              "            loadScript(\"https://cdn.jsdelivr.net/npm/postmate/build/postmate.min.js\").then(() => {\n",
              "            const iframe = document.createElement('iframe')\n",
              "            iframe.style.cssText = \"width:0;height:0;border:none\"\n",
              "            document.body.appendChild(iframe)\n",
              "            const handshake = new Postmate({\n",
              "                container: iframe,\n",
              "                url: 'https://app.wandb.ai/authorize'\n",
              "            });\n",
              "            const timeout = setTimeout(() => reject(\"Couldn't auto authenticate\"), 5000)\n",
              "            handshake.then(function(child) {\n",
              "                child.on('authorize', data => {\n",
              "                    clearTimeout(timeout)\n",
              "                    resolve(data)\n",
              "                });\n",
              "            });\n",
              "            })\n",
              "        });\n",
              "    "
            ],
            "text/plain": [
              "<IPython.core.display.Javascript object>"
            ]
          },
          "metadata": {
            "tags": []
          }
        },
        {
          "output_type": "stream",
          "text": [
            "wandb: ERROR Not authenticated.  Copy a key from https://app.wandb.ai/authorize\n"
          ],
          "name": "stderr"
        },
        {
          "output_type": "stream",
          "text": [
            "API Key: ··········\n"
          ],
          "name": "stdout"
        },
        {
          "output_type": "stream",
          "text": [
            "wandb: Appending key for api.wandb.ai to your netrc file: /root/.netrc\n"
          ],
          "name": "stderr"
        },
        {
          "output_type": "display_data",
          "data": {
            "text/html": [
              "\n",
              "            Notebook configured with <a href=\"https://wandb.com\" target=\"_blank\">W&B</a>. You can <a href=\"https://app.wandb.ai/anismousse/uncategorized/runs/2j15nnla\" target=\"_blank\">open</a> the run page, or call <code>%%wandb</code>\n",
              "            in a cell containing your training loop to display live results.  Learn more in our <a href=\"https://docs.wandb.com/docs/integrations/jupyter.html\" target=\"_blank\">docs</a>.\n",
              "        "
            ],
            "text/plain": [
              "<IPython.core.display.HTML object>"
            ]
          },
          "metadata": {
            "tags": []
          }
        },
        {
          "output_type": "stream",
          "text": [
            "Downloading data from https://storage.googleapis.com/tensorflow/tf-keras-datasets/mnist.npz\n",
            "11493376/11490434 [==============================] - 0s 0us/step\n",
            "WARNING:tensorflow:From /usr/local/lib/python3.6/dist-packages/tensorflow/python/ops/init_ops.py:1251: calling VarianceScaling.__init__ (from tensorflow.python.ops.init_ops) with dtype is deprecated and will be removed in a future version.\n",
            "Instructions for updating:\n",
            "Call initializer instance with the dtype argument instead of passing it to the constructor\n",
            "Train on 60000 samples, validate on 10000 samples\n",
            "Epoch 1/10\n",
            "60000/60000 [==============================] - 29s 489us/sample - loss: 0.2895 - acc: 0.9115 - val_loss: 0.0743 - val_acc: 0.9772\n",
            "Epoch 2/10\n",
            "60000/60000 [==============================] - 30s 503us/sample - loss: 0.1165 - acc: 0.9643 - val_loss: 0.0495 - val_acc: 0.9835\n",
            "Epoch 3/10\n",
            "60000/60000 [==============================] - 32s 525us/sample - loss: 0.0937 - acc: 0.9714 - val_loss: 0.0433 - val_acc: 0.9848\n",
            "Epoch 4/10\n",
            "60000/60000 [==============================] - 31s 518us/sample - loss: 0.0811 - acc: 0.9750 - val_loss: 0.0324 - val_acc: 0.9901\n",
            "Epoch 5/10\n",
            "60000/60000 [==============================] - 29s 477us/sample - loss: 0.0731 - acc: 0.9774 - val_loss: 0.0326 - val_acc: 0.9888\n",
            "Epoch 6/10\n",
            "60000/60000 [==============================] - 28s 474us/sample - loss: 0.0680 - acc: 0.9795 - val_loss: 0.0318 - val_acc: 0.9899\n",
            "Epoch 7/10\n",
            "60000/60000 [==============================] - 28s 473us/sample - loss: 0.0626 - acc: 0.9799 - val_loss: 0.0351 - val_acc: 0.9890\n",
            "Epoch 8/10\n",
            "60000/60000 [==============================] - 29s 478us/sample - loss: 0.0597 - acc: 0.9815 - val_loss: 0.0347 - val_acc: 0.9887\n",
            "Epoch 9/10\n",
            "60000/60000 [==============================] - 29s 484us/sample - loss: 0.0556 - acc: 0.9827 - val_loss: 0.0325 - val_acc: 0.9892\n",
            "Epoch 10/10\n",
            "60000/60000 [==============================] - 29s 480us/sample - loss: 0.0565 - acc: 0.9822 - val_loss: 0.0279 - val_acc: 0.9916\n"
          ],
          "name": "stdout"
        },
        {
          "output_type": "execute_result",
          "data": {
            "text/plain": [
              "<tensorflow.python.keras.callbacks.History at 0x7fe86705ad30>"
            ]
          },
          "metadata": {
            "tags": []
          },
          "execution_count": 1
        }
      ]
    },
    {
      "cell_type": "code",
      "metadata": {
        "id": "pj9oTfrpO5PR",
        "colab_type": "code",
        "colab": {}
      },
      "source": [
        ""
      ],
      "execution_count": 0,
      "outputs": []
    }
  ]
}